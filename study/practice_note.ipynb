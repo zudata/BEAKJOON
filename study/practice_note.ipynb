{
 "cells": [
  {
   "cell_type": "markdown",
   "id": "fa503bd8",
   "metadata": {},
   "source": [
    "### 제주도 도로 교통량 예측 AI 경진대회\n",
    "\n",
    "#### CatBoost + XGBoost + LGBM Ensemble 모델 (Private 3.08359) (게더타운주민들)"
   ]
  },
  {
   "cell_type": "markdown",
   "id": "34ecb4d5",
   "metadata": {},
   "source": [
    "- 어린이보호구역 : https://www.data.go.kr/data/15012891/standard.do\n",
    "- 무인교통단속카메라 : https://www.data.go.kr/data/15028200/standard.do\n",
    "- 전국초중등학교기본정보 : https://www.data.go.kr/data/15107734/standard.do\n",
    "- 제주도 주차장 : https://www.data.go.kr/data/15012896/standard.do"
   ]
  },
  {
   "cell_type": "code",
   "execution_count": 1,
   "id": "33fe849a",
   "metadata": {},
   "outputs": [],
   "source": [
    "import pandas as pd\n",
    "import numpy as np\n",
    "\n",
    "import warnings\n",
    "warnings.filterwarnings('ignore')\n",
    "\n",
    "import gc\n",
    "\n",
    "from sklearn.preprocessing import LabelEncoder\n",
    "from haversine import haversine\n",
    "from sklearn.cluster import KMeans\n",
    "\n",
    "import math\n",
    "\n",
    "from sklearn.model_selection import StratifiedKFold\n",
    "from sklearn.metrics import mean_absolute_error\n",
    "from catboost import CatBoostRegressor, Pool\n",
    "from lightgbm import LGBMRegressor\n",
    "from xgboost import XGBRegressor"
   ]
  },
  {
   "cell_type": "markdown",
   "id": "4ebc1913",
   "metadata": {},
   "source": [
    "### Data"
   ]
  },
  {
   "cell_type": "code",
   "execution_count": 2,
   "id": "45c381ab",
   "metadata": {},
   "outputs": [],
   "source": [
    "def csv_to_parquet(csv_path, save_name):\n",
    "    df = pd.read_csv(csv_path)\n",
    "    df.to_parquet(f'data/jeju/{save_name}.parquet')\n",
    "    del df\n",
    "    gc.collect()\n",
    "    print(save_name, 'Done.')"
   ]
  },
  {
   "cell_type": "code",
   "execution_count": 3,
   "id": "f7441e6a",
   "metadata": {},
   "outputs": [
    {
     "name": "stdout",
     "output_type": "stream",
     "text": [
      "train Done.\n",
      "test Done.\n"
     ]
    }
   ],
   "source": [
    "csv_to_parquet('data/jeju/train.csv', 'train')\n",
    "csv_to_parquet('data/jeju/test.csv', 'test')"
   ]
  },
  {
   "cell_type": "code",
   "execution_count": 4,
   "id": "de811b1c",
   "metadata": {},
   "outputs": [],
   "source": [
    "train = pd.read_parquet('data/jeju/train.parquet')\n",
    "test = pd.read_parquet('data/jeju/test.parquet')\n",
    "\n",
    "# 불필요 컬럼 삭제\n",
    "train.drop(['vehicle_restricted', 'id', 'height_restricted'], axis = 1, inplace = True)\n",
    "test.drop(['vehicle_restricted', 'id', 'height_restricted'], axis = 1, inplace = True)"
   ]
  },
  {
   "cell_type": "markdown",
   "id": "00fe40fc",
   "metadata": {},
   "source": [
    "### Feature Engineering"
   ]
  },
  {
   "cell_type": "markdown",
   "id": "9c2efbc3",
   "metadata": {},
   "source": [
    "#### 1. 도로 주변 시설 및 구역 수(train 기준)\n",
    "- 공공 데이터 포털에서 2022년 12월 이전 아래 5가지 표준 데이터를 사용\n",
    "    - 무인교통단속카메라\n",
    "    - 전국초중등학교기본정보\n",
    "    - 어린이보호구역\n",
    "    - 제주시 주차장 정보\n",
    "    - 서귀포시 주차장 정보\n",
    "- train의 start_node, end_node의 위경도 좌표의 unique 값만을 활용"
   ]
  },
  {
   "cell_type": "code",
   "execution_count": 5,
   "id": "51dd97f8",
   "metadata": {},
   "outputs": [],
   "source": [
    "# train의 start_node, end_node의 위경도 좌표의 unique 값\n",
    "gps_comb = train[['start_latitude', 'start_longitude', 'end_latitude', 'end_longitude']].drop_duplicates()\n",
    "\n",
    "# 무인교통단속카메라 - 데이터 내려감\n",
    "# cctv = pd.read_csv('경찰청_제주특별자치도경찰청_무인교통단속카메라_20220616.csv', encoding = 'cp949')\n",
    "# cctv = cctv.iloc[:, 3:-7].drop(['소재지도로명주소', '소재지지번주소'], axis = 1)\n",
    "\n",
    "# 초중등학교\n",
    "school = pd.read_csv('data/jeju/한국교육학술정보원_초중등학교기본정보_20221213.csv', encoding = 'cp949')\n",
    "school = school[(school['데이터기준일자'] <= '2022-12-01') & (school['시도교육청명'].str.contains('제주'))]\n",
    "\n",
    "# 어린이 보호 구역\n",
    "child = pd.read_csv('data/jeju/제주특별자치도_어린이보호구역_20221201.csv', encoding = 'cp949')\n",
    "\n",
    "# 제주시 주차장\n",
    "parking1 = pd.read_csv('data/jeju/제주특별자치도_제주시_주차장정보_20210818_1630391997093_77385.csv', encoding = 'cp949')\n",
    "parking1.dropna(subset = ['위도', '경도'], inplace = True)\n",
    "\n",
    "# 서귀포시 주차장\n",
    "parking2 = pd.read_csv('data/jeju/제주특별자치도_서귀포시_주차장정보_20221215.csv', encoding = 'cp949')"
   ]
  },
  {
   "cell_type": "code",
   "execution_count": 6,
   "id": "d01d15af",
   "metadata": {},
   "outputs": [],
   "source": [
    "# 직선과 점 사이의 거리 방정식 활용\n",
    "def cal_dist(x1, y1, x2, y2, a, b):\n",
    "    area = abs((x1 - a) * (y2 - b) - (y1 - b) * (x2 - a))\n",
    "    AB = ((x1 - x2) ** 2 + (y1 - y2) ** 2) ** 0.5\n",
    "    distance = area / AB\n",
    "    return distance"
   ]
  },
  {
   "cell_type": "code",
   "execution_count": 7,
   "id": "e3779640",
   "metadata": {},
   "outputs": [],
   "source": [
    "# train 데이터의 도로와 각 시설 및 구역의 위경도 좌표의 거리(위경도 좌표상 거리)가 0.0005이내일 경우 count +\n",
    "def get_node_cnt(gps_values, infra_values):\n",
    "    cnt = []\n",
    "    for y1, x1, y2, x2 in gps_values.values:\n",
    "        i = 0\n",
    "        for a, b in infra_values.values:\n",
    "            dist = cal_dist(x1, y1, x2, y2, a, b)\n",
    "            if dist < 0.0005:\n",
    "                i += 1\n",
    "            else:\n",
    "                pass\n",
    "        cnt.append(i)\n",
    "    return cnt"
   ]
  },
  {
   "cell_type": "code",
   "execution_count": 8,
   "id": "2c3ffd8f",
   "metadata": {},
   "outputs": [
    {
     "data": {
      "text/html": [
       "<div>\n",
       "<style scoped>\n",
       "    .dataframe tbody tr th:only-of-type {\n",
       "        vertical-align: middle;\n",
       "    }\n",
       "\n",
       "    .dataframe tbody tr th {\n",
       "        vertical-align: top;\n",
       "    }\n",
       "\n",
       "    .dataframe thead th {\n",
       "        text-align: right;\n",
       "    }\n",
       "</style>\n",
       "<table border=\"1\" class=\"dataframe\">\n",
       "  <thead>\n",
       "    <tr style=\"text-align: right;\">\n",
       "      <th></th>\n",
       "      <th>시도교육청코드</th>\n",
       "      <th>시도교육청명</th>\n",
       "      <th>교육지원청코드</th>\n",
       "      <th>교육지원청명</th>\n",
       "      <th>시도코드</th>\n",
       "      <th>시도명</th>\n",
       "      <th>시군구코드</th>\n",
       "      <th>시군구명</th>\n",
       "      <th>학교명</th>\n",
       "      <th>설립형태 구분명</th>\n",
       "      <th>...</th>\n",
       "      <th>교원 수</th>\n",
       "      <th>특수학급 수</th>\n",
       "      <th>소재지도로명주소</th>\n",
       "      <th>소재지지번주소</th>\n",
       "      <th>홈페이지주소</th>\n",
       "      <th>전화번호</th>\n",
       "      <th>팩스번호</th>\n",
       "      <th>남녀공학구분명</th>\n",
       "      <th>공시차수</th>\n",
       "      <th>데이터기준일자</th>\n",
       "    </tr>\n",
       "  </thead>\n",
       "  <tbody>\n",
       "    <tr>\n",
       "      <th>10846</th>\n",
       "      <td>9290000</td>\n",
       "      <td>제주특별자치도교육청</td>\n",
       "      <td>9299000</td>\n",
       "      <td>제주특별자치도서귀포시교육지원청</td>\n",
       "      <td>50</td>\n",
       "      <td>제주특별자치도</td>\n",
       "      <td>130</td>\n",
       "      <td>서귀포시</td>\n",
       "      <td>대정고등학교</td>\n",
       "      <td>공립</td>\n",
       "      <td>...</td>\n",
       "      <td>43</td>\n",
       "      <td>1</td>\n",
       "      <td>제주특별자치도 서귀포시 대정읍 일주서로2498번길 21</td>\n",
       "      <td>NaN</td>\n",
       "      <td>http://daejeong.jje.hs.kr</td>\n",
       "      <td>064-730-0100</td>\n",
       "      <td>064-794-2070</td>\n",
       "      <td>남</td>\n",
       "      <td>202205</td>\n",
       "      <td>2022-05-31</td>\n",
       "    </tr>\n",
       "    <tr>\n",
       "      <th>10847</th>\n",
       "      <td>9290000</td>\n",
       "      <td>제주특별자치도교육청</td>\n",
       "      <td>9299000</td>\n",
       "      <td>제주특별자치도서귀포시교육지원청</td>\n",
       "      <td>50</td>\n",
       "      <td>제주특별자치도</td>\n",
       "      <td>130</td>\n",
       "      <td>서귀포시</td>\n",
       "      <td>서귀포온성학교</td>\n",
       "      <td>공립</td>\n",
       "      <td>...</td>\n",
       "      <td>45</td>\n",
       "      <td>2</td>\n",
       "      <td>제주특별자치도 서귀포시 516로 447-10</td>\n",
       "      <td>NaN</td>\n",
       "      <td>http://onseong.jje.sc.kr</td>\n",
       "      <td>064-760-8000</td>\n",
       "      <td>064-767-8014</td>\n",
       "      <td>남녀공학</td>\n",
       "      <td>202205</td>\n",
       "      <td>2022-05-31</td>\n",
       "    </tr>\n",
       "    <tr>\n",
       "      <th>10848</th>\n",
       "      <td>9290000</td>\n",
       "      <td>제주특별자치도교육청</td>\n",
       "      <td>9299000</td>\n",
       "      <td>제주특별자치도서귀포시교육지원청</td>\n",
       "      <td>50</td>\n",
       "      <td>제주특별자치도</td>\n",
       "      <td>130</td>\n",
       "      <td>서귀포시</td>\n",
       "      <td>토산초등학교</td>\n",
       "      <td>공립</td>\n",
       "      <td>...</td>\n",
       "      <td>10</td>\n",
       "      <td>0</td>\n",
       "      <td>제주특별자치도 서귀포시 표선면 토산중앙로 68-9</td>\n",
       "      <td>NaN</td>\n",
       "      <td>http://tosan.jje.es.kr</td>\n",
       "      <td>064-780-9200</td>\n",
       "      <td>064-780-9299</td>\n",
       "      <td>남녀공학</td>\n",
       "      <td>202205</td>\n",
       "      <td>2022-05-31</td>\n",
       "    </tr>\n",
       "    <tr>\n",
       "      <th>10849</th>\n",
       "      <td>9290000</td>\n",
       "      <td>제주특별자치도교육청</td>\n",
       "      <td>9299000</td>\n",
       "      <td>제주특별자치도서귀포시교육지원청</td>\n",
       "      <td>50</td>\n",
       "      <td>제주특별자치도</td>\n",
       "      <td>130</td>\n",
       "      <td>서귀포시</td>\n",
       "      <td>남원초등학교</td>\n",
       "      <td>공립</td>\n",
       "      <td>...</td>\n",
       "      <td>24</td>\n",
       "      <td>1</td>\n",
       "      <td>제주특별자치도 서귀포시 남원읍 태위로 647</td>\n",
       "      <td>NaN</td>\n",
       "      <td>http://jjnamwon.jje.es.kr</td>\n",
       "      <td>064-766-4100</td>\n",
       "      <td>064-766-4194</td>\n",
       "      <td>남녀공학</td>\n",
       "      <td>202205</td>\n",
       "      <td>2022-05-31</td>\n",
       "    </tr>\n",
       "    <tr>\n",
       "      <th>10850</th>\n",
       "      <td>9290000</td>\n",
       "      <td>제주특별자치도교육청</td>\n",
       "      <td>9299000</td>\n",
       "      <td>제주특별자치도서귀포시교육지원청</td>\n",
       "      <td>50</td>\n",
       "      <td>제주특별자치도</td>\n",
       "      <td>130</td>\n",
       "      <td>서귀포시</td>\n",
       "      <td>보성초등학교</td>\n",
       "      <td>공립</td>\n",
       "      <td>...</td>\n",
       "      <td>19</td>\n",
       "      <td>0</td>\n",
       "      <td>제주특별자치도 서귀포시 대정읍 추사로55번길 6-1</td>\n",
       "      <td>NaN</td>\n",
       "      <td>http://jejuboseong.jje.es.kr</td>\n",
       "      <td>064-797-3300</td>\n",
       "      <td>064-797-3399</td>\n",
       "      <td>남녀공학</td>\n",
       "      <td>202205</td>\n",
       "      <td>2022-05-31</td>\n",
       "    </tr>\n",
       "  </tbody>\n",
       "</table>\n",
       "<p>5 rows × 26 columns</p>\n",
       "</div>"
      ],
      "text/plain": [
       "       시도교육청코드      시도교육청명  교육지원청코드            교육지원청명  시도코드      시도명  시군구코드  \\\n",
       "10846  9290000  제주특별자치도교육청  9299000  제주특별자치도서귀포시교육지원청    50  제주특별자치도    130   \n",
       "10847  9290000  제주특별자치도교육청  9299000  제주특별자치도서귀포시교육지원청    50  제주특별자치도    130   \n",
       "10848  9290000  제주특별자치도교육청  9299000  제주특별자치도서귀포시교육지원청    50  제주특별자치도    130   \n",
       "10849  9290000  제주특별자치도교육청  9299000  제주특별자치도서귀포시교육지원청    50  제주특별자치도    130   \n",
       "10850  9290000  제주특별자치도교육청  9299000  제주특별자치도서귀포시교육지원청    50  제주특별자치도    130   \n",
       "\n",
       "       시군구명      학교명 설립형태 구분명  ... 교원 수 특수학급 수  \\\n",
       "10846  서귀포시   대정고등학교       공립  ...   43      1   \n",
       "10847  서귀포시  서귀포온성학교       공립  ...   45      2   \n",
       "10848  서귀포시   토산초등학교       공립  ...   10      0   \n",
       "10849  서귀포시   남원초등학교       공립  ...   24      1   \n",
       "10850  서귀포시   보성초등학교       공립  ...   19      0   \n",
       "\n",
       "                             소재지도로명주소 소재지지번주소                        홈페이지주소  \\\n",
       "10846  제주특별자치도 서귀포시 대정읍 일주서로2498번길 21     NaN     http://daejeong.jje.hs.kr   \n",
       "10847        제주특별자치도 서귀포시 516로 447-10     NaN      http://onseong.jje.sc.kr   \n",
       "10848     제주특별자치도 서귀포시 표선면 토산중앙로 68-9     NaN        http://tosan.jje.es.kr   \n",
       "10849        제주특별자치도 서귀포시 남원읍 태위로 647     NaN     http://jjnamwon.jje.es.kr   \n",
       "10850    제주특별자치도 서귀포시 대정읍 추사로55번길 6-1     NaN  http://jejuboseong.jje.es.kr   \n",
       "\n",
       "               전화번호          팩스번호  남녀공학구분명    공시차수     데이터기준일자  \n",
       "10846  064-730-0100  064-794-2070        남  202205  2022-05-31  \n",
       "10847  064-760-8000  064-767-8014     남녀공학  202205  2022-05-31  \n",
       "10848  064-780-9200  064-780-9299     남녀공학  202205  2022-05-31  \n",
       "10849  064-766-4100  064-766-4194     남녀공학  202205  2022-05-31  \n",
       "10850  064-797-3300  064-797-3399     남녀공학  202205  2022-05-31  \n",
       "\n",
       "[5 rows x 26 columns]"
      ]
     },
     "execution_count": 8,
     "metadata": {},
     "output_type": "execute_result"
    }
   ],
   "source": [
    "school.head()"
   ]
  },
  {
   "cell_type": "code",
   "execution_count": 9,
   "id": "11f1a29d",
   "metadata": {},
   "outputs": [],
   "source": [
    "# school 데이터도 위도, 경도 제공하지 않기에 제외\n",
    "# cctv_cnt = get_node_cnt(gps_comb, cctv[['경도', '위도']])\n",
    "# school_cnt = get_node_cnt(gps_comb, school[['경도', '위도']])\n",
    "child_cnt = get_node_cnt(gps_comb, child[['경도', '위도']])\n",
    "parking1_cnt = get_node_cnt(gps_comb, parking1[['경도', '위도']])\n",
    "parking2_cnt = get_node_cnt(gps_comb, parking2[['경도', '위도']])\n",
    "parking_cnt = list(np.array(parking1_cnt) + np.array(parking2_cnt))"
   ]
  },
  {
   "cell_type": "code",
   "execution_count": 10,
   "id": "92fbaa03",
   "metadata": {},
   "outputs": [],
   "source": [
    "# gps_comb['CCTV_cnt'] = cctv_cnt\n",
    "# gps_comb['school_cnt'] = school_cnt\n",
    "gps_comb['child_cnt'] = child_cnt\n",
    "gps_comb['parking_cnt'] = parking_cnt"
   ]
  },
  {
   "cell_type": "code",
   "execution_count": 11,
   "id": "e61462b4",
   "metadata": {},
   "outputs": [],
   "source": [
    "train = pd.merge(train, gps_comb, how = 'left')\n",
    "test = pd.merge(test, gps_comb, how = 'left').fillna(0)"
   ]
  },
  {
   "cell_type": "markdown",
   "id": "8dae61ec",
   "metadata": {},
   "source": [
    "#### 2. 제주 공항까지 거리(km)\n",
    "- train과 test의 시작 위경도 좌표와 제주 공항 위경도 좌표까지의 거리(km)"
   ]
  },
  {
   "cell_type": "code",
   "execution_count": 12,
   "id": "b763f42c",
   "metadata": {},
   "outputs": [],
   "source": [
    "jeju = (33.506683, 126.493177)"
   ]
  },
  {
   "cell_type": "code",
   "execution_count": 13,
   "id": "cc01615f",
   "metadata": {},
   "outputs": [],
   "source": [
    "train['j_a_dist'] = [haversine((v[0], v[1]), jeju, unit = 'km') for v in train[['start_latitude', 'start_longitude']].values]\n",
    "test['j_a_dist'] = [haversine((v[0], v[1]), jeju, unit = 'km') for v in test[['start_latitude', 'start_longitude']].values]"
   ]
  },
  {
   "cell_type": "markdown",
   "id": "eb1840ab",
   "metadata": {},
   "source": [
    "#### 3. 한라산까지 거리(km)\n",
    "- train과 test의 시작 위경도 좌표와 한라산 위경도 좌표까지의 거리(km)"
   ]
  },
  {
   "cell_type": "code",
   "execution_count": 14,
   "id": "9117b6e8",
   "metadata": {},
   "outputs": [],
   "source": [
    "hanla = 33.36168194, 126.5291548"
   ]
  },
  {
   "cell_type": "code",
   "execution_count": 15,
   "id": "b8257f9d",
   "metadata": {},
   "outputs": [],
   "source": [
    "train['h_a_dist'] = [haversine((v[0], v[1]), hanla, unit = 'km') for v in train[['start_latitude', 'start_longitude']].values]\n",
    "test['h_a_dist'] = [haversine((v[0], v[1]), hanla, unit = 'km') for v in test[['start_latitude', 'start_longitude']].values]"
   ]
  },
  {
   "cell_type": "markdown",
   "id": "408ed78b",
   "metadata": {},
   "source": [
    "#### 4. start_node_name과 end_node_name을 key값으로 만들어 LabelEncoding"
   ]
  },
  {
   "cell_type": "code",
   "execution_count": 16,
   "id": "29a35196",
   "metadata": {},
   "outputs": [],
   "source": [
    "le = LabelEncoder()"
   ]
  },
  {
   "cell_type": "code",
   "execution_count": 17,
   "id": "e78b1a28",
   "metadata": {},
   "outputs": [],
   "source": [
    "train['node_combination'] = train['start_node_name'] + '_' + train['end_node_name']\n",
    "test['node_combination'] = test['start_node_name'] + '_' + test['end_node_name']"
   ]
  },
  {
   "cell_type": "code",
   "execution_count": 18,
   "id": "66cf92b9",
   "metadata": {},
   "outputs": [],
   "source": [
    "train['node_combination'] = le.fit_transform(train['node_combination'])"
   ]
  },
  {
   "cell_type": "code",
   "execution_count": 19,
   "id": "dd03b189",
   "metadata": {},
   "outputs": [],
   "source": [
    "for category in np.unique(test['node_combination']) :\n",
    "    if category not in le.classes_ :\n",
    "        le.classes_ = np.append(le.classes_, label)\n",
    "test['node_combination'] = le.transform(test['node_combination'])"
   ]
  },
  {
   "cell_type": "markdown",
   "id": "f7a20c41",
   "metadata": {},
   "source": [
    "#### 5. 위경도 좌표만으로 Clustering(KMeans)\n",
    "- Clustering Plotting 결과 군집 수가 6일 때 각 좌표가 명확히 구분되어 6으로 설정"
   ]
  },
  {
   "cell_type": "code",
   "execution_count": 20,
   "id": "f8ba5a29",
   "metadata": {},
   "outputs": [],
   "source": [
    "km = KMeans(n_clusters = 6, max_iter = 1000, random_state = 42, n_init = 15)"
   ]
  },
  {
   "cell_type": "code",
   "execution_count": 21,
   "id": "b514df01",
   "metadata": {},
   "outputs": [],
   "source": [
    "train['gps_cls'] = km.fit_predict(train[['start_latitude', 'start_longitude', 'end_latitude', 'end_longitude']])\n",
    "test['gps_cls'] = km.predict(test[['start_latitude', 'start_longitude', 'end_latitude', 'end_longitude']])\n",
    "# numpy 버전 1.21.4로 다운그레이드하여 문제 해결 ㅜㅜ"
   ]
  },
  {
   "cell_type": "markdown",
   "id": "976a656d",
   "metadata": {},
   "source": [
    "#### 6. 공휴일 전후 1 ~ 2일 여부\n",
    "\n",
    "- 일반적인 공휴일 기준으로 전후 1 ~ 2일을 기간을 더 두어 binary화"
   ]
  },
  {
   "cell_type": "code",
   "execution_count": 22,
   "id": "c470c4d1",
   "metadata": {},
   "outputs": [],
   "source": [
    "train['base_date'] = train['base_date'].astype(str)\n",
    "test['base_date'] = test['base_date'].astype(str)"
   ]
  },
  {
   "cell_type": "code",
   "execution_count": 23,
   "id": "bd6c1492",
   "metadata": {},
   "outputs": [],
   "source": [
    "train['date'] = train['base_date'].str[4:]\n",
    "test['date'] = test['base_date'].str[4:]"
   ]
  },
  {
   "cell_type": "code",
   "execution_count": 24,
   "id": "b3315848",
   "metadata": {},
   "outputs": [],
   "source": [
    "h_days = ['1231', '0101', '0102', '0129', '0130', '0131', '0201', '0202', '0228', '0229', '0230', '0301', '0302', \n",
    "          '0505', '0506', '0507', '0508', '0605', '0607', '0606', '0814', '0815', '0816', '0920', '0921', '0504',\n",
    "          '0922', '1002', '1003', '1004', '1008', '1009', '1010', '1224', '1225', '1226']"
   ]
  },
  {
   "cell_type": "code",
   "execution_count": 25,
   "id": "1597ce27",
   "metadata": {},
   "outputs": [],
   "source": [
    "train['in_h_days'] = train['date'].isin(h_days)\n",
    "test['in_h_days'] = test['date'].isin(h_days)"
   ]
  },
  {
   "cell_type": "markdown",
   "id": "b24de5ca",
   "metadata": {},
   "source": [
    "#### 7. 년도"
   ]
  },
  {
   "cell_type": "code",
   "execution_count": 26,
   "id": "094314fe",
   "metadata": {},
   "outputs": [],
   "source": [
    "train['base_date'] = pd.to_datetime(train['base_date'])\n",
    "test['base_date'] = pd.to_datetime(test['base_date'])"
   ]
  },
  {
   "cell_type": "code",
   "execution_count": 27,
   "id": "fa9ca5c3",
   "metadata": {},
   "outputs": [],
   "source": [
    "train['year'] = train['base_date'].dt.year\n",
    "test['year'] = test['base_date'].dt.year"
   ]
  },
  {
   "cell_type": "markdown",
   "id": "59f214cd",
   "metadata": {},
   "source": [
    "#### 8. 월"
   ]
  },
  {
   "cell_type": "code",
   "execution_count": 28,
   "id": "85f6a043",
   "metadata": {},
   "outputs": [],
   "source": [
    "train['month'] = train['base_date'].dt.month\n",
    "test['month'] = test['base_date'].dt.month"
   ]
  },
  {
   "cell_type": "markdown",
   "id": "33046297",
   "metadata": {},
   "source": [
    "#### 9. 최고 제한 속도로 도로 주행시 소요 시간"
   ]
  },
  {
   "cell_type": "code",
   "execution_count": 29,
   "id": "a2692ff6",
   "metadata": {},
   "outputs": [],
   "source": [
    "dist = []\n",
    "for i, v in enumerate(train[['start_latitude', 'end_latitude', 'start_longitude', 'end_longitude']].values) :\n",
    "    dist.append(haversine((v[0], v[2]), (v[1], v[3]), unit = 'km'))"
   ]
  },
  {
   "cell_type": "code",
   "execution_count": 30,
   "id": "3c712487",
   "metadata": {},
   "outputs": [],
   "source": [
    "train['at_time'] = 60 * pd.Series(dist) / train['maximum_speed_limit']"
   ]
  },
  {
   "cell_type": "code",
   "execution_count": 31,
   "id": "90023260",
   "metadata": {},
   "outputs": [],
   "source": [
    "dist = []\n",
    "for i, v in enumerate(test[['start_latitude', 'end_latitude', 'start_longitude', 'end_longitude']].values) :\n",
    "    dist.append(haversine((v[0], v[2]), (v[1], v[3]), unit = 'km'))"
   ]
  },
  {
   "cell_type": "code",
   "execution_count": 32,
   "id": "a8fb6aeb",
   "metadata": {},
   "outputs": [],
   "source": [
    "test['at_time'] = 60 * pd.Series(dist) / test['maximum_speed_limit']"
   ]
  },
  {
   "cell_type": "code",
   "execution_count": 33,
   "id": "cc76f814",
   "metadata": {},
   "outputs": [
    {
     "data": {
      "text/plain": [
       "18"
      ]
     },
     "execution_count": 33,
     "metadata": {},
     "output_type": "execute_result"
    }
   ],
   "source": [
    "gc.collect()"
   ]
  },
  {
   "cell_type": "markdown",
   "id": "eb5a05b0",
   "metadata": {},
   "source": [
    "#### 10. 방위각\n",
    "- 각 도로의 start, end node의 위경도 좌표로 해당 도로의 방위각 계산"
   ]
  },
  {
   "cell_type": "code",
   "execution_count": 34,
   "id": "286df959",
   "metadata": {},
   "outputs": [],
   "source": [
    "def Azimuth(lat1, lng1, lat2, lng2):\n",
    "    Lat1 = math.radians(lat1)\n",
    "    Lat2 = math.radians(lat2)\n",
    "    Lng1 = math.radians(lng1)\n",
    "    Lng2 = math.radians(lng2)\n",
    "    \n",
    "    y = math.sin(Lng2 - Lng1) * math.cos(Lat2)\n",
    "    x = math.cos(Lat1) * math.sin(Lat2) - math.sin(Lat1) * math.cos(Lat2) * math.cos(Lng2-Lng1)\n",
    "    z = math.atan2(y, x)\n",
    "\n",
    "    a = np.rad2deg(z)\n",
    "    \n",
    "    if(a < 0):\n",
    "        a = 180 + (180 + a)\n",
    "    return a"
   ]
  },
  {
   "cell_type": "code",
   "execution_count": 35,
   "id": "9b18884f",
   "metadata": {},
   "outputs": [],
   "source": [
    "train['degree'] = [Azimuth(v[0], v[1], v[2], v[3]) for i, v in enumerate(train[['start_latitude', 'start_longitude', 'end_latitude', 'end_longitude']].values)]\n",
    "test['degree'] = [Azimuth(v[0], v[1], v[2], v[3]) for i, v in enumerate(test[['start_latitude', 'start_longitude', 'end_latitude', 'end_longitude']].values)]"
   ]
  },
  {
   "cell_type": "markdown",
   "id": "4be0432f",
   "metadata": {},
   "source": [
    "#### 11. 계절"
   ]
  },
  {
   "cell_type": "code",
   "execution_count": 36,
   "id": "d363a6a9",
   "metadata": {},
   "outputs": [],
   "source": [
    "def get_season(x) :\n",
    "    \n",
    "    if x in [9, 10, 11] :\n",
    "        return 3\n",
    "    elif x in [12, 1, 2] :\n",
    "        return 2\n",
    "    elif x in [3, 4, 5, 6] :\n",
    "        return 1\n",
    "    else :\n",
    "        return 0"
   ]
  },
  {
   "cell_type": "code",
   "execution_count": 37,
   "id": "e967e376",
   "metadata": {},
   "outputs": [],
   "source": [
    "train['season'] = train['month'].apply(get_season)\n",
    "test['season'] = test['month'].apply(get_season)"
   ]
  },
  {
   "cell_type": "markdown",
   "id": "f5e82be1",
   "metadata": {},
   "source": [
    "#### 12. 요일\n",
    "\n",
    "- 일반적인 요일 순서대로가 아닌 LabelEncoding으로 진행"
   ]
  },
  {
   "cell_type": "code",
   "execution_count": 38,
   "id": "8f48f667",
   "metadata": {},
   "outputs": [],
   "source": [
    "train['day_of_week'] = le.fit_transform(train['day_of_week'])"
   ]
  },
  {
   "cell_type": "code",
   "execution_count": 39,
   "id": "1aa37284",
   "metadata": {},
   "outputs": [],
   "source": [
    "for category in np.unique(test['day_of_week']) :\n",
    "    if category not in le.classes_ :\n",
    "        le.classes_ = np.append(le.classes_, label)\n",
    "test['day_of_week'] = le.transform(test['day_of_week'])"
   ]
  },
  {
   "cell_type": "markdown",
   "id": "512fec23",
   "metadata": {},
   "source": [
    "#### 13. 도로명\n",
    "\n",
    "- 도로명 LabelEncoding"
   ]
  },
  {
   "cell_type": "code",
   "execution_count": 40,
   "id": "dbf275a2",
   "metadata": {},
   "outputs": [],
   "source": [
    "train['road_name'] = le.fit_transform(train['road_name'])"
   ]
  },
  {
   "cell_type": "code",
   "execution_count": 41,
   "id": "61cb9976",
   "metadata": {},
   "outputs": [],
   "source": [
    "for category in np.unique(test['road_name']) :\n",
    "    if category not in le.classes_ :\n",
    "        le.classes_ = np.append(le.classes_, label)\n",
    "test['road_name'] = le.transform(test['road_name'])"
   ]
  },
  {
   "cell_type": "markdown",
   "id": "e51d7230",
   "metadata": {},
   "source": [
    "#### 14. 시작 노드 == 종료 노드 여부"
   ]
  },
  {
   "cell_type": "code",
   "execution_count": 42,
   "id": "d9ba05a8",
   "metadata": {},
   "outputs": [],
   "source": [
    "train['node_same'] = train['start_node_name'] == train['end_node_name']\n",
    "test['node_same'] = test['start_node_name'] == test['end_node_name']"
   ]
  },
  {
   "cell_type": "markdown",
   "id": "f5d779f6",
   "metadata": {},
   "source": [
    "#### 15. 기타 컬럼 LabelEncoding"
   ]
  },
  {
   "cell_type": "code",
   "execution_count": 43,
   "id": "589af3a0",
   "metadata": {},
   "outputs": [],
   "source": [
    "train['start_turn_restricted'] = le.fit_transform(train['start_turn_restricted'])"
   ]
  },
  {
   "cell_type": "code",
   "execution_count": 44,
   "id": "57d8edaa",
   "metadata": {},
   "outputs": [],
   "source": [
    "for category in np.unique(test['start_turn_restricted']) :\n",
    "    if category not in le.classes_ :\n",
    "        le.classes_ = np.append(le.classes_, label)\n",
    "test['start_turn_restricted'] = le.transform(test['start_turn_restricted'])"
   ]
  },
  {
   "cell_type": "code",
   "execution_count": 45,
   "id": "444f07d9",
   "metadata": {},
   "outputs": [],
   "source": [
    "train['end_turn_restricted'] = le.fit_transform(train['end_turn_restricted'])"
   ]
  },
  {
   "cell_type": "code",
   "execution_count": 46,
   "id": "ce9b3831",
   "metadata": {},
   "outputs": [],
   "source": [
    "for category in np.unique(test['end_turn_restricted']) :\n",
    "    if category not in le.classes_ :\n",
    "        le.classes_ = np.append(le.classes_, label)\n",
    "test['end_turn_restricted'] = le.transform(test['end_turn_restricted'])"
   ]
  },
  {
   "cell_type": "code",
   "execution_count": 47,
   "id": "b9a9fe96",
   "metadata": {},
   "outputs": [],
   "source": [
    "# 모델링 사용 제외 컬럼 삭제\n",
    "train.drop(['start_node_name', 'end_node_name', 'date', 'base_date'], axis = 1, inplace = True)\n",
    "test.drop(['start_node_name', 'end_node_name', 'date', 'base_date'], axis = 1, inplace = True)"
   ]
  },
  {
   "cell_type": "code",
   "execution_count": 51,
   "id": "4f717b0c",
   "metadata": {},
   "outputs": [],
   "source": [
    "train.to_csv('data/jeju/pre_data/pre_train.csv', encoding = 'utf8') # 파일 저장\n",
    "test.to_csv('data/jeju/pre_data/pre_test.csv', encoding = 'utf8')"
   ]
  },
  {
   "cell_type": "markdown",
   "id": "12a1d3d8",
   "metadata": {},
   "source": [
    "### Modeling\n",
    "\n",
    "- lane_count를 1, 2, 3으로 나누어 모델링\n",
    "- LGBM, XGBoost는 optuna로 파라미터 튜닝"
   ]
  },
  {
   "cell_type": "code",
   "execution_count": 2,
   "id": "dd0a7960",
   "metadata": {},
   "outputs": [],
   "source": [
    "train = pd.read_csv('data/jeju/pre_data/pre_train.csv', index_col = 0)\n",
    "test = pd.read_csv('data/jeju/pre_data/pre_test.csv', index_col = 0)"
   ]
  },
  {
   "cell_type": "code",
   "execution_count": 3,
   "id": "634948bb",
   "metadata": {},
   "outputs": [],
   "source": [
    "X = train.drop(['target'], axis = 1)\n",
    "y = train.target\n",
    "target = test[X.columns]\n",
    "skf = StratifiedKFold(n_splits = 10, random_state = 42, shuffle = True)\n",
    "\n",
    "X1 = X[X['lane_count'] == 1].drop(['lane_count'], axis = 1)\n",
    "X2 = X[X['lane_count'] == 2].drop(['lane_count'], axis = 1)\n",
    "X3 = X[X['lane_count'] == 3].drop(['lane_count'], axis = 1)\n",
    "\n",
    "y1 = y[X1.index]\n",
    "y2 = y[X2.index]\n",
    "y3 = y[X3.index]\n",
    "\n",
    "standard1 = X1['day_of_week']\n",
    "standard2 = X2['day_of_week']\n",
    "standard3 = X3['day_of_week']\n",
    "\n",
    "target1 = target.loc[target['lane_count'] == 1, X1.columns]\n",
    "target2 = target.loc[target['lane_count'] == 2, X2.columns]\n",
    "target3 = target.loc[target['lane_count'] == 3, X3.columns]"
   ]
  },
  {
   "cell_type": "markdown",
   "id": "094bec57",
   "metadata": {},
   "source": [
    "#### 1. CatBoost"
   ]
  },
  {
   "cell_type": "code",
   "execution_count": 50,
   "id": "ff7ff9dd",
   "metadata": {},
   "outputs": [
    {
     "name": "stdout",
     "output_type": "stream",
     "text": [
      "0:\tlearn: 10.7036682\ttest: 10.7036682\ttest1: 10.7213488\tbest: 10.7213488 (0)\ttotal: 201ms\tremaining: 33m 29s\n",
      "2500:\tlearn: 2.8069726\ttest: 2.8069726\ttest1: 2.8396487\tbest: 2.8396487 (2500)\ttotal: 4m 13s\tremaining: 12m 41s\n",
      "5000:\tlearn: 2.7276822\ttest: 2.7276822\ttest1: 2.7771141\tbest: 2.7771141 (5000)\ttotal: 8m 14s\tremaining: 8m 14s\n",
      "7500:\tlearn: 2.6802176\ttest: 2.6802176\ttest1: 2.7444068\tbest: 2.7444068 (7500)\ttotal: 12m 22s\tremaining: 4m 7s\n",
      "Stopped by overfitting detector  (5 iterations wait)\n",
      "\n",
      "bestTest = 2.727826215\n",
      "bestIteration = 9377\n",
      "\n",
      "Shrink model to first 9378 iterations.\n",
      "1 Fold MAE = 2.7919334762020864\n",
      "0:\tlearn: 10.7085999\ttest: 10.7085999\ttest1: 10.6935783\tbest: 10.6935783 (0)\ttotal: 143ms\tremaining: 23m 48s\n",
      "2500:\tlearn: 2.8080414\ttest: 2.8080414\ttest1: 2.8258439\tbest: 2.8258439 (2500)\ttotal: 3m 24s\tremaining: 10m 14s\n",
      "5000:\tlearn: 2.7283515\ttest: 2.7283515\ttest1: 2.7627244\tbest: 2.7627244 (5000)\ttotal: 6m 33s\tremaining: 6m 33s\n",
      "7500:\tlearn: 2.6811667\ttest: 2.6811667\ttest1: 2.7310553\tbest: 2.7310553 (7500)\ttotal: 9m 41s\tremaining: 3m 13s\n",
      "Stopped by overfitting detector  (5 iterations wait)\n",
      "\n",
      "bestTest = 2.720878774\n",
      "bestIteration = 8655\n",
      "\n",
      "Shrink model to first 8656 iterations.\n",
      "2 Fold MAE = 2.7825835883813594\n",
      "0:\tlearn: 10.7103355\ttest: 10.7103355\ttest1: 10.6684785\tbest: 10.6684785 (0)\ttotal: 98.4ms\tremaining: 16m 23s\n",
      "2500:\tlearn: 2.8083243\ttest: 2.8083243\ttest1: 2.8147833\tbest: 2.8147833 (2500)\ttotal: 3m 8s\tremaining: 9m 25s\n",
      "5000:\tlearn: 2.7295754\ttest: 2.7295754\ttest1: 2.7527839\tbest: 2.7527839 (5000)\ttotal: 6m 17s\tremaining: 6m 17s\n",
      "Stopped by overfitting detector  (5 iterations wait)\n",
      "\n",
      "bestTest = 2.730480206\n",
      "bestIteration = 6625\n",
      "\n",
      "Shrink model to first 6626 iterations.\n",
      "3 Fold MAE = 2.792817590935048\n",
      "0:\tlearn: 10.7067850\ttest: 10.7067850\ttest1: 10.7087475\tbest: 10.7087475 (0)\ttotal: 92ms\tremaining: 15m 19s\n",
      "2500:\tlearn: 2.8060263\ttest: 2.8060263\ttest1: 2.8338744\tbest: 2.8338744 (2500)\ttotal: 3m 8s\tremaining: 9m 25s\n",
      "5000:\tlearn: 2.7277385\ttest: 2.7277385\ttest1: 2.7721904\tbest: 2.7721904 (5000)\ttotal: 6m 16s\tremaining: 6m 16s\n",
      "7500:\tlearn: 2.6808307\ttest: 2.6808307\ttest1: 2.7405475\tbest: 2.7405475 (7500)\ttotal: 9m 23s\tremaining: 3m 7s\n",
      "9999:\tlearn: 2.6469084\ttest: 2.6469084\ttest1: 2.7206949\tbest: 2.7206938 (9995)\ttotal: 12m 31s\tremaining: 0us\n",
      "\n",
      "bestTest = 2.720693793\n",
      "bestIteration = 9995\n",
      "\n",
      "Shrink model to first 9996 iterations.\n",
      "4 Fold MAE = 2.78412991729386\n",
      "0:\tlearn: 10.7103283\ttest: 10.7103283\ttest1: 10.6648881\tbest: 10.6648881 (0)\ttotal: 83ms\tremaining: 13m 50s\n",
      "2500:\tlearn: 2.8057883\ttest: 2.8057883\ttest1: 2.8208851\tbest: 2.8208851 (2500)\ttotal: 3m 8s\tremaining: 9m 23s\n",
      "5000:\tlearn: 2.7280156\ttest: 2.7280156\ttest1: 2.7619365\tbest: 2.7619365 (5000)\ttotal: 6m 17s\tremaining: 6m 17s\n",
      "7500:\tlearn: 2.6819913\ttest: 2.6819913\ttest1: 2.7321277\tbest: 2.7321277 (7500)\ttotal: 9m 24s\tremaining: 3m 8s\n",
      "9999:\tlearn: 2.6476305\ttest: 2.6476305\ttest1: 2.7121494\tbest: 2.7121494 (9999)\ttotal: 12m 32s\tremaining: 0us\n",
      "\n",
      "bestTest = 2.712149406\n",
      "bestIteration = 9999\n",
      "\n",
      "5 Fold MAE = 2.7752946686942184\n",
      "0:\tlearn: 10.7020880\ttest: 10.7020880\ttest1: 10.7364467\tbest: 10.7364467 (0)\ttotal: 74.3ms\tremaining: 12m 22s\n",
      "2500:\tlearn: 2.8050550\ttest: 2.8050550\ttest1: 2.8240781\tbest: 2.8240781 (2500)\ttotal: 3m 6s\tremaining: 9m 19s\n",
      "5000:\tlearn: 2.7270285\ttest: 2.7270285\ttest1: 2.7634322\tbest: 2.7634272 (4997)\ttotal: 6m 12s\tremaining: 6m 12s\n",
      "7500:\tlearn: 2.6805606\ttest: 2.6805606\ttest1: 2.7321950\tbest: 2.7321950 (7500)\ttotal: 9m 18s\tremaining: 3m 6s\n",
      "Stopped by overfitting detector  (5 iterations wait)\n",
      "\n",
      "bestTest = 2.730342444\n",
      "bestIteration = 7681\n",
      "\n",
      "Shrink model to first 7682 iterations.\n",
      "6 Fold MAE = 2.791681905385203\n",
      "0:\tlearn: 10.7027429\ttest: 10.7027429\ttest1: 10.7080441\tbest: 10.7080441 (0)\ttotal: 79.3ms\tremaining: 13m 12s\n",
      "2500:\tlearn: 2.8083405\ttest: 2.8083405\ttest1: 2.8216506\tbest: 2.8216506 (2500)\ttotal: 3m 5s\tremaining: 9m 17s\n",
      "5000:\tlearn: 2.7293119\ttest: 2.7293119\ttest1: 2.7612034\tbest: 2.7612034 (5000)\ttotal: 6m 14s\tremaining: 6m 14s\n",
      "7500:\tlearn: 2.6833915\ttest: 2.6833915\ttest1: 2.7317931\tbest: 2.7317931 (7500)\ttotal: 9m 20s\tremaining: 3m 6s\n",
      "Stopped by overfitting detector  (5 iterations wait)\n",
      "\n",
      "bestTest = 2.71395122\n",
      "bestIteration = 9816\n",
      "\n",
      "Shrink model to first 9817 iterations.\n",
      "7 Fold MAE = 2.776257114075443\n",
      "0:\tlearn: 10.7050614\ttest: 10.7050614\ttest1: 10.7137177\tbest: 10.7137177 (0)\ttotal: 76ms\tremaining: 12m 39s\n",
      "2500:\tlearn: 2.8076604\ttest: 2.8076604\ttest1: 2.8154060\tbest: 2.8154060 (2500)\ttotal: 3m 6s\tremaining: 9m 18s\n",
      "5000:\tlearn: 2.7281523\ttest: 2.7281523\ttest1: 2.7552478\tbest: 2.7552478 (5000)\ttotal: 6m 12s\tremaining: 6m 12s\n",
      "7500:\tlearn: 2.6819687\ttest: 2.6819687\ttest1: 2.7252652\tbest: 2.7252652 (7500)\ttotal: 9m 19s\tremaining: 3m 6s\n",
      "9999:\tlearn: 2.6479829\ttest: 2.6479829\ttest1: 2.7057009\tbest: 2.7057009 (9999)\ttotal: 12m 25s\tremaining: 0us\n",
      "\n",
      "bestTest = 2.705700919\n",
      "bestIteration = 9999\n",
      "\n",
      "8 Fold MAE = 2.7683201478316106\n",
      "0:\tlearn: 10.7028796\ttest: 10.7028796\ttest1: 10.7336198\tbest: 10.7336198 (0)\ttotal: 78.2ms\tremaining: 13m 1s\n",
      "2500:\tlearn: 2.8076479\ttest: 2.8076479\ttest1: 2.8188188\tbest: 2.8188188 (2500)\ttotal: 3m 8s\tremaining: 9m 24s\n",
      "5000:\tlearn: 2.7284596\ttest: 2.7284596\ttest1: 2.7559867\tbest: 2.7559867 (5000)\ttotal: 6m 14s\tremaining: 6m 14s\n",
      "7500:\tlearn: 2.6823540\ttest: 2.6823540\ttest1: 2.7250151\tbest: 2.7250151 (7500)\ttotal: 9m 20s\tremaining: 3m 6s\n",
      "Stopped by overfitting detector  (5 iterations wait)\n",
      "\n",
      "bestTest = 2.705300236\n",
      "bestIteration = 9942\n",
      "\n",
      "Shrink model to first 9943 iterations.\n",
      "9 Fold MAE = 2.768493388000231\n",
      "0:\tlearn: 10.7062438\ttest: 10.7062438\ttest1: 10.7096003\tbest: 10.7096003 (0)\ttotal: 78.6ms\tremaining: 13m 5s\n",
      "2500:\tlearn: 2.8077520\ttest: 2.8077520\ttest1: 2.8151616\tbest: 2.8151616 (2500)\ttotal: 3m 6s\tremaining: 9m 18s\n",
      "5000:\tlearn: 2.7290393\ttest: 2.7290393\ttest1: 2.7539194\tbest: 2.7539194 (5000)\ttotal: 6m 12s\tremaining: 6m 11s\n",
      "7500:\tlearn: 2.6823520\ttest: 2.6823520\ttest1: 2.7222203\tbest: 2.7222203 (7500)\ttotal: 9m 17s\tremaining: 3m 5s\n",
      "9999:\tlearn: 2.6482566\ttest: 2.6482566\ttest1: 2.7014828\tbest: 2.7014818 (9998)\ttotal: 12m 23s\tremaining: 0us\n",
      "\n",
      "bestTest = 2.701481846\n",
      "bestIteration = 9998\n",
      "\n",
      "Shrink model to first 9999 iterations.\n",
      "10 Fold MAE = 2.763693993699191\n",
      "\n",
      "AVG of MAE = 2.779520579049825\n"
     ]
    }
   ],
   "source": [
    "cb_pred1 = np.zeros(target1.shape[0])\n",
    "i = 0\n",
    "cb_mae = []\n",
    "\n",
    "for tr_idx, val_idx in skf.split(X1, standard1):\n",
    "    \n",
    "    tr_x, tr_y = X1.iloc[tr_idx], y1.iloc[tr_idx]\n",
    "    val_x, val_y = X1.iloc[val_idx], y1.iloc[val_idx]\n",
    "\n",
    "    cb = CatBoostRegressor(max_depth = 8, learning_rate = 0.033, use_best_model = True, iterations = 10000, eval_metric = 'MAE')\n",
    "\n",
    "    cb.fit(tr_x, tr_y, eval_set = [(tr_x, tr_y), (val_x, val_y)], early_stopping_rounds = 5, verbose = 2500)\n",
    "\n",
    "    val_pred = cb.predict(val_x).astype(int)\n",
    "    fold_mae = mean_absolute_error(val_y, val_pred)\n",
    "    cb_mae.append(fold_mae)\n",
    "    print(f\"{i + 1} Fold MAE = {fold_mae}\")\n",
    "\n",
    "    i += 1\n",
    "\n",
    "    fold_pred = cb.predict(target1) / skf.n_splits\n",
    "    cb_pred1 += fold_pred\n",
    "\n",
    "print(f\"\\nAVG of MAE = {np.mean(cb_mae)}\")"
   ]
  },
  {
   "cell_type": "code",
   "execution_count": 51,
   "id": "6b2c58ef",
   "metadata": {},
   "outputs": [],
   "source": [
    "np.save('data/jeju/pred/cb_pred1', cb_pred1)"
   ]
  },
  {
   "cell_type": "code",
   "execution_count": 52,
   "id": "8fffec80",
   "metadata": {},
   "outputs": [
    {
     "name": "stdout",
     "output_type": "stream",
     "text": [
      "0:\tlearn: 14.6226382\ttest: 14.6226382\ttest1: 14.6295789\tbest: 14.6295789 (0)\ttotal: 138ms\tremaining: 23m 3s\n",
      "2500:\tlearn: 3.3644980\ttest: 3.3644980\ttest1: 3.3702721\tbest: 3.3702721 (2500)\ttotal: 4m 40s\tremaining: 13m 59s\n",
      "5000:\tlearn: 3.2508975\ttest: 3.2508975\ttest1: 3.2677373\tbest: 3.2677373 (5000)\ttotal: 9m 21s\tremaining: 9m 21s\n",
      "7500:\tlearn: 3.1950302\ttest: 3.1950302\ttest1: 3.2240437\tbest: 3.2240437 (7500)\ttotal: 14m 2s\tremaining: 4m 40s\n",
      "9999:\tlearn: 3.1566727\ttest: 3.1566727\ttest1: 3.1971778\tbest: 3.1971778 (9999)\ttotal: 18m 43s\tremaining: 0us\n",
      "\n",
      "bestTest = 3.197177761\n",
      "bestIteration = 9999\n",
      "\n",
      "1 Fold MAE = 3.253492623612942\n",
      "\n",
      "0:\tlearn: 14.6245123\ttest: 14.6245123\ttest1: 14.6191513\tbest: 14.6191513 (0)\ttotal: 145ms\tremaining: 24m 9s\n",
      "2500:\tlearn: 3.3653606\ttest: 3.3653606\ttest1: 3.3644357\tbest: 3.3644357 (2500)\ttotal: 4m 41s\tremaining: 14m 3s\n",
      "5000:\tlearn: 3.2522235\ttest: 3.2522235\ttest1: 3.2617819\tbest: 3.2617819 (5000)\ttotal: 9m 20s\tremaining: 9m 20s\n",
      "7500:\tlearn: 3.1962813\ttest: 3.1962813\ttest1: 3.2168538\tbest: 3.2168538 (7500)\ttotal: 14m 2s\tremaining: 4m 40s\n",
      "9999:\tlearn: 3.1580053\ttest: 3.1580053\ttest1: 3.1899781\tbest: 3.1899781 (9999)\ttotal: 18m 44s\tremaining: 0us\n",
      "\n",
      "bestTest = 3.189978135\n",
      "bestIteration = 9999\n",
      "\n",
      "2 Fold MAE = 3.248896730581183\n",
      "\n",
      "0:\tlearn: 14.6342095\ttest: 14.6342095\ttest1: 14.6487465\tbest: 14.6487465 (0)\ttotal: 125ms\tremaining: 20m 51s\n",
      "2500:\tlearn: 3.3630974\ttest: 3.3630974\ttest1: 3.3738612\tbest: 3.3738612 (2500)\ttotal: 4m 40s\tremaining: 14m 1s\n",
      "5000:\tlearn: 3.2491031\ttest: 3.2491031\ttest1: 3.2744118\tbest: 3.2744118 (5000)\ttotal: 9m 20s\tremaining: 9m 20s\n",
      "7500:\tlearn: 3.1938228\ttest: 3.1938228\ttest1: 3.2320865\tbest: 3.2320865 (7500)\ttotal: 14m 1s\tremaining: 4m 40s\n",
      "9999:\tlearn: 3.1564938\ttest: 3.1564938\ttest1: 3.2060348\tbest: 3.2060348 (9999)\ttotal: 18m 41s\tremaining: 0us\n",
      "\n",
      "bestTest = 3.206034776\n",
      "bestIteration = 9999\n",
      "\n",
      "3 Fold MAE = 3.262536722659422\n",
      "\n",
      "0:\tlearn: 14.6230964\ttest: 14.6230964\ttest1: 14.6212177\tbest: 14.6212177 (0)\ttotal: 140ms\tremaining: 23m 21s\n",
      "2500:\tlearn: 3.3644969\ttest: 3.3644969\ttest1: 3.3710911\tbest: 3.3710911 (2500)\ttotal: 4m 40s\tremaining: 14m 1s\n",
      "5000:\tlearn: 3.2497057\ttest: 3.2497057\ttest1: 3.2702622\tbest: 3.2702622 (5000)\ttotal: 9m 21s\tremaining: 9m 21s\n",
      "7500:\tlearn: 3.1943401\ttest: 3.1943401\ttest1: 3.2266997\tbest: 3.2266997 (7500)\ttotal: 14m 2s\tremaining: 4m 40s\n",
      "9999:\tlearn: 3.1573485\ttest: 3.1573485\ttest1: 3.2001525\tbest: 3.2001525 (9999)\ttotal: 18m 42s\tremaining: 0us\n",
      "\n",
      "bestTest = 3.200152471\n",
      "bestIteration = 9999\n",
      "\n",
      "4 Fold MAE = 3.2565675633160294\n",
      "\n",
      "0:\tlearn: 14.6282972\ttest: 14.6282972\ttest1: 14.5800590\tbest: 14.5800590 (0)\ttotal: 141ms\tremaining: 23m 30s\n",
      "2500:\tlearn: 3.3636520\ttest: 3.3636520\ttest1: 3.3815554\tbest: 3.3815554 (2500)\ttotal: 4m 40s\tremaining: 14m 1s\n",
      "5000:\tlearn: 3.2489260\ttest: 3.2489260\ttest1: 3.2791470\tbest: 3.2791470 (5000)\ttotal: 9m 20s\tremaining: 9m 20s\n",
      "7500:\tlearn: 3.1939558\ttest: 3.1939558\ttest1: 3.2351760\tbest: 3.2351760 (7500)\ttotal: 14m 1s\tremaining: 4m 40s\n",
      "9999:\tlearn: 3.1559097\ttest: 3.1559097\ttest1: 3.2081558\tbest: 3.2081558 (9999)\ttotal: 18m 41s\tremaining: 0us\n",
      "\n",
      "bestTest = 3.208155788\n",
      "bestIteration = 9999\n",
      "\n",
      "5 Fold MAE = 3.2638972148174603\n",
      "\n",
      "0:\tlearn: 14.6229080\ttest: 14.6229080\ttest1: 14.6229770\tbest: 14.6229770 (0)\ttotal: 128ms\tremaining: 21m 23s\n",
      "2500:\tlearn: 3.3636775\ttest: 3.3636775\ttest1: 3.3766581\tbest: 3.3766581 (2500)\ttotal: 4m 41s\tremaining: 14m 3s\n",
      "5000:\tlearn: 3.2499007\ttest: 3.2499007\ttest1: 3.2733535\tbest: 3.2733535 (5000)\ttotal: 9m 20s\tremaining: 9m 20s\n",
      "7500:\tlearn: 3.1942643\ttest: 3.1942643\ttest1: 3.2288925\tbest: 3.2288925 (7500)\ttotal: 14m\tremaining: 4m 40s\n",
      "9999:\tlearn: 3.1567062\ttest: 3.1567062\ttest1: 3.2017711\tbest: 3.2017711 (9999)\ttotal: 18m 40s\tremaining: 0us\n",
      "\n",
      "bestTest = 3.201771053\n",
      "bestIteration = 9999\n",
      "\n",
      "6 Fold MAE = 3.258476503875277\n",
      "\n",
      "0:\tlearn: 14.6295385\ttest: 14.6295385\ttest1: 14.6650133\tbest: 14.6650133 (0)\ttotal: 124ms\tremaining: 20m 40s\n",
      "2500:\tlearn: 3.3636150\ttest: 3.3636150\ttest1: 3.3627601\tbest: 3.3627601 (2500)\ttotal: 4m 40s\tremaining: 14m 1s\n",
      "5000:\tlearn: 3.2520316\ttest: 3.2520316\ttest1: 3.2637099\tbest: 3.2637099 (5000)\ttotal: 9m 20s\tremaining: 9m 20s\n",
      "7500:\tlearn: 3.1961764\ttest: 3.1961764\ttest1: 3.2197522\tbest: 3.2197522 (7500)\ttotal: 14m\tremaining: 4m 40s\n",
      "9999:\tlearn: 3.1582495\ttest: 3.1582495\ttest1: 3.1929895\tbest: 3.1929895 (9999)\ttotal: 18m 40s\tremaining: 0us\n",
      "\n",
      "bestTest = 3.192989504\n",
      "bestIteration = 9999\n",
      "\n",
      "7 Fold MAE = 3.249399470258366\n",
      "\n",
      "0:\tlearn: 14.6365774\ttest: 14.6365774\ttest1: 14.6268415\tbest: 14.6268415 (0)\ttotal: 123ms\tremaining: 20m 26s\n",
      "2500:\tlearn: 3.3629908\ttest: 3.3629908\ttest1: 3.3854334\tbest: 3.3854334 (2500)\ttotal: 4m 41s\tremaining: 14m 3s\n",
      "5000:\tlearn: 3.2492668\ttest: 3.2492668\ttest1: 3.2821022\tbest: 3.2821022 (5000)\ttotal: 9m 22s\tremaining: 9m 22s\n",
      "7500:\tlearn: 3.1939381\ttest: 3.1939381\ttest1: 3.2384943\tbest: 3.2384943 (7500)\ttotal: 14m 3s\tremaining: 4m 41s\n",
      "9999:\tlearn: 3.1559659\ttest: 3.1559659\ttest1: 3.2115455\tbest: 3.2115455 (9999)\ttotal: 18m 43s\tremaining: 0us\n",
      "\n",
      "bestTest = 3.211545453\n",
      "bestIteration = 9999\n",
      "\n",
      "8 Fold MAE = 3.269275410379705\n",
      "\n",
      "0:\tlearn: 14.6223649\ttest: 14.6223649\ttest1: 14.6333469\tbest: 14.6333469 (0)\ttotal: 129ms\tremaining: 21m 26s\n",
      "2500:\tlearn: 3.3614873\ttest: 3.3614873\ttest1: 3.3767949\tbest: 3.3767949 (2500)\ttotal: 4m 41s\tremaining: 14m 3s\n",
      "5000:\tlearn: 3.2479659\ttest: 3.2479659\ttest1: 3.2752698\tbest: 3.2752698 (5000)\ttotal: 9m 39s\tremaining: 9m 39s\n",
      "7500:\tlearn: 3.1927658\ttest: 3.1927658\ttest1: 3.2318785\tbest: 3.2318785 (7500)\ttotal: 14m 41s\tremaining: 4m 53s\n",
      "9999:\tlearn: 3.1551847\ttest: 3.1551847\ttest1: 3.2047957\tbest: 3.2047954 (9998)\ttotal: 19m 59s\tremaining: 0us\n",
      "\n",
      "bestTest = 3.204795435\n",
      "bestIteration = 9998\n",
      "\n",
      "Shrink model to first 9999 iterations.\n",
      "9 Fold MAE = 3.2614823412369423\n",
      "\n",
      "0:\tlearn: 14.6247576\ttest: 14.6247576\ttest1: 14.6228684\tbest: 14.6228684 (0)\ttotal: 257ms\tremaining: 42m 48s\n",
      "2500:\tlearn: 3.3600242\ttest: 3.3600242\ttest1: 3.3698497\tbest: 3.3698497 (2500)\ttotal: 4m 59s\tremaining: 14m 59s\n",
      "5000:\tlearn: 3.2490404\ttest: 3.2490404\ttest1: 3.2689398\tbest: 3.2689398 (5000)\ttotal: 10m 29s\tremaining: 10m 29s\n",
      "7500:\tlearn: 3.1936573\ttest: 3.1936573\ttest1: 3.2254147\tbest: 3.2254147 (7500)\ttotal: 15m 34s\tremaining: 5m 11s\n",
      "9999:\tlearn: 3.1564750\ttest: 3.1564750\ttest1: 3.1995267\tbest: 3.1995267 (9999)\ttotal: 21m 7s\tremaining: 0us\n",
      "\n",
      "bestTest = 3.199526735\n",
      "bestIteration = 9999\n",
      "\n",
      "10 Fold MAE = 3.2577112270363804\n",
      "\n",
      "\n",
      "AVG of MAE = 3.2581735807773704\n"
     ]
    }
   ],
   "source": [
    "cb_pred2 = np.zeros(target2.shape[0])\n",
    "i = 0\n",
    "cb_mae = []\n",
    "\n",
    "for tr_idx, val_idx in skf.split(X2, standard2):\n",
    "    \n",
    "    tr_x, tr_y = X2.iloc[tr_idx], y2.iloc[tr_idx]\n",
    "    val_x, val_y = X2.iloc[val_idx], y2.iloc[val_idx]\n",
    "\n",
    "    cb = CatBoostRegressor(max_depth = 8, learning_rate = 0.033, use_best_model = True, iterations = 10000, eval_metric = 'MAE')\n",
    "\n",
    "    cb.fit(tr_x, tr_y, eval_set = [(tr_x, tr_y), (val_x, val_y)], early_stopping_rounds = 5, verbose = 2500)\n",
    "\n",
    "    val_pred = cb.predict(val_x).astype(int)\n",
    "    fold_mae = mean_absolute_error(val_y, val_pred)\n",
    "    cb_mae.append(fold_mae)\n",
    "    print(f\"{i + 1} Fold MAE = {fold_mae}\\n\")\n",
    "\n",
    "    i += 1\n",
    "\n",
    "    fold_pred = cb.predict(target2) / skf.n_splits\n",
    "    cb_pred2 += fold_pred\n",
    "\n",
    "print(f\"\\nAVG of MAE = {np.mean(cb_mae)}\")"
   ]
  },
  {
   "cell_type": "code",
   "execution_count": 53,
   "id": "7746aefe",
   "metadata": {},
   "outputs": [],
   "source": [
    "np.save('data/jeju/pred/cb_pred2', cb_pred2)"
   ]
  },
  {
   "cell_type": "code",
   "execution_count": 55,
   "id": "d51c28d0",
   "metadata": {},
   "outputs": [
    {
     "name": "stdout",
     "output_type": "stream",
     "text": [
      "0:\tlearn: 9.9844361\ttest: 9.9844361\ttest1: 9.9670874\tbest: 9.9670874 (0)\ttotal: 70.8ms\tremaining: 11m 47s\n",
      "2500:\tlearn: 3.2088915\ttest: 3.2088915\ttest1: 3.2525753\tbest: 3.2525753 (2500)\ttotal: 1m 47s\tremaining: 5m 22s\n",
      "5000:\tlearn: 3.1058219\ttest: 3.1058219\ttest1: 3.1815155\tbest: 3.1815155 (5000)\ttotal: 3m 42s\tremaining: 3m 42s\n",
      "7500:\tlearn: 3.0490230\ttest: 3.0490230\ttest1: 3.1521921\tbest: 3.1521921 (7500)\ttotal: 5m 32s\tremaining: 1m 50s\n",
      "Stopped by overfitting detector  (8 iterations wait)\n",
      "\n",
      "bestTest = 3.144751025\n",
      "bestIteration = 8378\n",
      "\n",
      "Shrink model to first 8379 iterations.\n",
      "1 Fold MAE = 3.1852517075638755\n",
      "\n",
      "0:\tlearn: 9.9891507\ttest: 9.9891507\ttest1: 9.9260323\tbest: 9.9260323 (0)\ttotal: 68.3ms\tremaining: 11m 23s\n",
      "2500:\tlearn: 3.2157325\ttest: 3.2157325\ttest1: 3.2341058\tbest: 3.2341058 (2500)\ttotal: 1m 49s\tremaining: 5m 27s\n",
      "5000:\tlearn: 3.1099807\ttest: 3.1099807\ttest1: 3.1631989\tbest: 3.1631989 (5000)\ttotal: 3m 39s\tremaining: 3m 39s\n",
      "7500:\tlearn: 3.0520090\ttest: 3.0520090\ttest1: 3.1340859\tbest: 3.1340859 (7500)\ttotal: 5m 17s\tremaining: 1m 45s\n",
      "Stopped by overfitting detector  (8 iterations wait)\n",
      "\n",
      "bestTest = 3.133306125\n",
      "bestIteration = 7587\n",
      "\n",
      "Shrink model to first 7588 iterations.\n",
      "2 Fold MAE = 3.175600809511763\n",
      "\n",
      "0:\tlearn: 9.9834201\ttest: 9.9834201\ttest1: 9.9773851\tbest: 9.9773851 (0)\ttotal: 99.8ms\tremaining: 16m 37s\n",
      "2500:\tlearn: 3.2117435\ttest: 3.2117435\ttest1: 3.2596763\tbest: 3.2596763 (2500)\ttotal: 1m 38s\tremaining: 4m 56s\n",
      "5000:\tlearn: 3.1063023\ttest: 3.1063023\ttest1: 3.1902276\tbest: 3.1902276 (5000)\ttotal: 3m 15s\tremaining: 3m 15s\n",
      "Stopped by overfitting detector  (8 iterations wait)\n",
      "\n",
      "bestTest = 3.168081303\n",
      "bestIteration = 6592\n",
      "\n",
      "Shrink model to first 6593 iterations.\n",
      "3 Fold MAE = 3.2070705793068557\n",
      "\n",
      "0:\tlearn: 9.9805547\ttest: 9.9805547\ttest1: 10.0021540\tbest: 10.0021540 (0)\ttotal: 83.9ms\tremaining: 13m 58s\n",
      "2500:\tlearn: 3.2109569\ttest: 3.2109569\ttest1: 3.2631507\tbest: 3.2631507 (2500)\ttotal: 1m 37s\tremaining: 4m 51s\n",
      "5000:\tlearn: 3.1059157\ttest: 3.1059157\ttest1: 3.1942710\tbest: 3.1942710 (5000)\ttotal: 3m 14s\tremaining: 3m 14s\n",
      "7500:\tlearn: 3.0473468\ttest: 3.0473468\ttest1: 3.1659637\tbest: 3.1659637 (7500)\ttotal: 4m 50s\tremaining: 1m 36s\n",
      "Stopped by overfitting detector  (8 iterations wait)\n",
      "\n",
      "bestTest = 3.159692215\n",
      "bestIteration = 8317\n",
      "\n",
      "Shrink model to first 8318 iterations.\n",
      "4 Fold MAE = 3.201694915254237\n",
      "\n",
      "0:\tlearn: 9.9814236\ttest: 9.9814236\ttest1: 9.9950278\tbest: 9.9950278 (0)\ttotal: 55.2ms\tremaining: 9m 12s\n",
      "2500:\tlearn: 3.2121568\ttest: 3.2121568\ttest1: 3.2521004\tbest: 3.2521004 (2500)\ttotal: 1m 37s\tremaining: 4m 51s\n",
      "5000:\tlearn: 3.1079475\ttest: 3.1079475\ttest1: 3.1777320\tbest: 3.1777320 (5000)\ttotal: 3m 13s\tremaining: 3m 13s\n",
      "7500:\tlearn: 3.0500365\ttest: 3.0500365\ttest1: 3.1463144\tbest: 3.1463144 (7500)\ttotal: 4m 50s\tremaining: 1m 36s\n",
      "Stopped by overfitting detector  (8 iterations wait)\n",
      "\n",
      "bestTest = 3.129580418\n",
      "bestIteration = 9887\n",
      "\n",
      "Shrink model to first 9888 iterations.\n",
      "5 Fold MAE = 3.17187164016747\n",
      "\n",
      "0:\tlearn: 9.9844769\ttest: 9.9844769\ttest1: 9.9649973\tbest: 9.9649973 (0)\ttotal: 48.8ms\tremaining: 8m 8s\n",
      "2500:\tlearn: 3.2154846\ttest: 3.2154846\ttest1: 3.2377567\tbest: 3.2377567 (2500)\ttotal: 1m 37s\tremaining: 4m 52s\n",
      "5000:\tlearn: 3.1103792\ttest: 3.1103792\ttest1: 3.1670372\tbest: 3.1670372 (5000)\ttotal: 3m 13s\tremaining: 3m 13s\n",
      "Stopped by overfitting detector  (8 iterations wait)\n",
      "\n",
      "bestTest = 3.138954247\n",
      "bestIteration = 7281\n",
      "\n",
      "Shrink model to first 7282 iterations.\n",
      "6 Fold MAE = 3.1803969187568777\n",
      "\n",
      "0:\tlearn: 9.9816454\ttest: 9.9816454\ttest1: 9.9897461\tbest: 9.9897461 (0)\ttotal: 42ms\tremaining: 6m 59s\n",
      "2500:\tlearn: 3.2149840\ttest: 3.2149840\ttest1: 3.2178665\tbest: 3.2178665 (2500)\ttotal: 1m 37s\tremaining: 4m 52s\n",
      "5000:\tlearn: 3.1095865\ttest: 3.1095865\ttest1: 3.1476507\tbest: 3.1476507 (5000)\ttotal: 3m 14s\tremaining: 3m 14s\n",
      "7500:\tlearn: 3.0513478\ttest: 3.0513478\ttest1: 3.1186917\tbest: 3.1186917 (7500)\ttotal: 4m 50s\tremaining: 1m 36s\n",
      "Stopped by overfitting detector  (8 iterations wait)\n",
      "\n",
      "bestTest = 3.116895862\n",
      "bestIteration = 7721\n",
      "\n",
      "Shrink model to first 7722 iterations.\n",
      "7 Fold MAE = 3.1618285078232713\n",
      "\n",
      "0:\tlearn: 9.9818850\ttest: 9.9818850\ttest1: 9.9864766\tbest: 9.9864766 (0)\ttotal: 50.5ms\tremaining: 8m 24s\n",
      "2500:\tlearn: 3.2106308\ttest: 3.2106308\ttest1: 3.2514662\tbest: 3.2514662 (2500)\ttotal: 1m 37s\tremaining: 4m 51s\n",
      "5000:\tlearn: 3.1067769\ttest: 3.1067769\ttest1: 3.1850473\tbest: 3.1850473 (5000)\ttotal: 3m 16s\tremaining: 3m 16s\n",
      "Stopped by overfitting detector  (8 iterations wait)\n",
      "\n",
      "bestTest = 3.158131279\n",
      "bestIteration = 7485\n",
      "\n",
      "Shrink model to first 7486 iterations.\n",
      "8 Fold MAE = 3.203392403141957\n",
      "\n",
      "0:\tlearn: 9.9772609\ttest: 9.9772609\ttest1: 10.0303869\tbest: 10.0303869 (0)\ttotal: 61.4ms\tremaining: 10m 13s\n",
      "2500:\tlearn: 3.2116661\ttest: 3.2116661\ttest1: 3.2482033\tbest: 3.2482033 (2500)\ttotal: 1m 45s\tremaining: 5m 16s\n",
      "5000:\tlearn: 3.1068820\ttest: 3.1068820\ttest1: 3.1760205\tbest: 3.1760205 (5000)\ttotal: 3m 28s\tremaining: 3m 28s\n",
      "Stopped by overfitting detector  (8 iterations wait)\n",
      "\n",
      "bestTest = 3.157582788\n",
      "bestIteration = 6397\n",
      "\n",
      "Shrink model to first 6398 iterations.\n",
      "9 Fold MAE = 3.1983075930634084\n",
      "\n",
      "0:\tlearn: 9.9823164\ttest: 9.9823164\ttest1: 9.9877687\tbest: 9.9877687 (0)\ttotal: 55.6ms\tremaining: 9m 16s\n",
      "2500:\tlearn: 3.2133811\ttest: 3.2133811\ttest1: 3.2457949\tbest: 3.2457949 (2500)\ttotal: 1m 45s\tremaining: 5m 14s\n",
      "5000:\tlearn: 3.1090639\ttest: 3.1090639\ttest1: 3.1722087\tbest: 3.1722087 (5000)\ttotal: 3m 49s\tremaining: 3m 49s\n",
      "7500:\tlearn: 3.0510198\ttest: 3.0510198\ttest1: 3.1407225\tbest: 3.1407225 (7500)\ttotal: 5m 53s\tremaining: 1m 57s\n",
      "Stopped by overfitting detector  (8 iterations wait)\n",
      "\n",
      "bestTest = 3.124939552\n",
      "bestIteration = 9528\n",
      "\n",
      "Shrink model to first 9529 iterations.\n",
      "10 Fold MAE = 3.1606395223820183\n",
      "\n",
      "\n",
      "AVG of MAE = 3.184605459697173\n"
     ]
    }
   ],
   "source": [
    "cb_pred3 = np.zeros(target3.shape[0])\n",
    "i = 0\n",
    "cb_mae = []\n",
    "\n",
    "for tr_idx, val_idx in skf.split(X3, standard3):\n",
    "    \n",
    "    tr_x, tr_y = X3.iloc[tr_idx], y3.iloc[tr_idx]\n",
    "    val_x, val_y = X3.iloc[val_idx], y3.iloc[val_idx]\n",
    "\n",
    "    cb = CatBoostRegressor(max_depth = 8, learning_rate = 0.033, use_best_model = True, iterations = 10000, eval_metric = 'MAE')\n",
    "\n",
    "    cb.fit(tr_x, tr_y, eval_set = [(tr_x, tr_y), (val_x, val_y)], early_stopping_rounds = 8, verbose = 2500)\n",
    "\n",
    "    val_pred = cb.predict(val_x).astype(int)\n",
    "    fold_mae = mean_absolute_error(val_y, val_pred)\n",
    "    cb_mae.append(fold_mae)\n",
    "    print(f\"{i + 1} Fold MAE = {fold_mae}\\n\")\n",
    "\n",
    "    i += 1\n",
    "\n",
    "    fold_pred = cb.predict(target3) / skf.n_splits\n",
    "    cb_pred3 += fold_pred\n",
    "\n",
    "print(f\"\\nAVG of MAE = {np.mean(cb_mae)}\")"
   ]
  },
  {
   "cell_type": "code",
   "execution_count": 56,
   "id": "2be67460",
   "metadata": {},
   "outputs": [],
   "source": [
    "np.save('data/jeju/pred/cb_pred3', cb_pred3)"
   ]
  },
  {
   "cell_type": "markdown",
   "id": "392accfa",
   "metadata": {},
   "source": [
    "#### 2. LGBMRegressor - 파라미터 수정 필요"
   ]
  },
  {
   "cell_type": "code",
   "execution_count": 4,
   "id": "5b5427c6",
   "metadata": {},
   "outputs": [],
   "source": [
    "lgbm_param1 = {\n",
    "    'objective' : 'regression',\n",
    "    'device' : 'gpu',\n",
    "    'metric' : 'mae',\n",
    "    'verbose' : -1,\n",
    "    'random_state' : 42,\n",
    "    'n_estimators' : 1468,\n",
    "    'learning_rate' : 0.033,\n",
    "    'max_depth' : 29,\n",
    "    'min_child_samples' : 16,\n",
    "    'subsample' : 0.7,\n",
    "    'colsample_bytree' : 0.9,\n",
    "    'num_leaves' : 979\n",
    "}"
   ]
  },
  {
   "cell_type": "markdown",
   "id": "7bce147c",
   "metadata": {},
   "source": [
    "#### 3. XGBoost"
   ]
  },
  {
   "cell_type": "code",
   "execution_count": 28,
   "id": "76079ee3",
   "metadata": {},
   "outputs": [],
   "source": [
    "xgb_param1 = {\n",
    "    'objective' : 'reg:squarederror',\n",
    "    'n_estimators' : 574,\n",
    "    'learning_rate' : 0.031000000000000003,\n",
    "    'nthread' : -1,\n",
    "    'max_depth' : 15,\n",
    "    'min_child_weight' : 7,\n",
    "    'gamma' : 0.35000000000000003,\n",
    "    'colsample_bytree' : 0.8,\n",
    "    'lambda' : 0.8500000000000001,\n",
    "    'alpha' : 0.0,\n",
    "    'subsample' : 1.0,\n",
    "    'tree_method' : 'gpu_hist',\n",
    "    'predictor' : 'gpu_predictor'\n",
    "}"
   ]
  },
  {
   "cell_type": "code",
   "execution_count": null,
   "id": "a41d2372",
   "metadata": {},
   "outputs": [],
   "source": []
  }
 ],
 "metadata": {
  "kernelspec": {
   "display_name": "Python 3 (ipykernel)",
   "language": "python",
   "name": "python3"
  },
  "language_info": {
   "codemirror_mode": {
    "name": "ipython",
    "version": 3
   },
   "file_extension": ".py",
   "mimetype": "text/x-python",
   "name": "python",
   "nbconvert_exporter": "python",
   "pygments_lexer": "ipython3",
   "version": "3.9.7"
  }
 },
 "nbformat": 4,
 "nbformat_minor": 5
}
